{
 "cells": [
  {
   "cell_type": "markdown",
   "metadata": {},
   "source": [
    "### Ollama"
   ]
  },
  {
   "cell_type": "code",
   "execution_count": 1,
   "metadata": {},
   "outputs": [],
   "source": [
    "import requests\n",
    "\n",
    "MODEL = \"llama3.2:1b\"\n",
    "URL = \"http://localhost:11434/api/chat\""
   ]
  },
  {
   "cell_type": "code",
   "execution_count": 2,
   "metadata": {},
   "outputs": [],
   "source": [
    "# The following code also calls the appropriate Ollama endpoint and activates the model.\n",
    "\n",
    "def ollama(model, prompt):\n",
    "    data = {\n",
    "        \"model\": model,\n",
    "        \"messages\": [\n",
    "            {\n",
    "                \"role\": \"user\",\n",
    "                \"content\": prompt\n",
    "            }\n",
    "        ],\n",
    "        \"stream\": False,\n",
    "    }\n",
    "\n",
    "    headers = {\n",
    "        \"Content-Type\": \"application/json\"\n",
    "    }\n",
    "\n",
    "    response = requests.post(URL, headers=headers, json=data)\n",
    "    if response.status_code == 200:\n",
    "        return response.json()[\"message\"][\"content\"]\n",
    "    else:\n",
    "        return \"Error\""
   ]
  },
  {
   "cell_type": "code",
   "execution_count": 3,
   "metadata": {},
   "outputs": [
    {
     "name": "stdout",
     "output_type": "stream",
     "text": [
      "The letter \"a\" appears twice in the word \"banana\".\n"
     ]
    }
   ],
   "source": [
    "response = ollama(\n",
    "    model=MODEL,\n",
    "    prompt=\"How often does the letter a appear in banana?\"\n",
    "    )\n",
    "\n",
    "print(response)"
   ]
  },
  {
   "cell_type": "code",
   "execution_count": 8,
   "metadata": {},
   "outputs": [
    {
     "name": "stdout",
     "output_type": "stream",
     "text": [
      "zsh:1: command not found: ollama\n"
     ]
    }
   ],
   "source": [
    "# To list all actively running models, you can use the following code:\n",
    "!ollama ps"
   ]
  },
  {
   "cell_type": "code",
   "execution_count": null,
   "metadata": {},
   "outputs": [
    {
     "name": "stdout",
     "output_type": "stream",
     "text": [
      "\u001b[?25l\u001b[?25l\u001b[?25h\u001b[2K\u001b[1G\u001b[?25hNAME    ID    SIZE    PROCESSOR    UNTIL \n"
     ]
    }
   ],
   "source": [
    "# To stop the Ollama server, execute the following command:\n",
    "!ollama stop llama3.2:1b\n",
    "\n",
    "# Confirmation\n",
    "!ollama ps"
   ]
  },
  {
   "cell_type": "markdown",
   "metadata": {},
   "source": [
    "### Performance"
   ]
  },
  {
   "cell_type": "code",
   "execution_count": null,
   "metadata": {},
   "outputs": [
    {
     "name": "stderr",
     "output_type": "stream",
     "text": [
      "/Users/hendriksippel/Documents/Repositories/cbs-thesis-efficient-llm-distillation/.venv/lib/python3.11/site-packages/tqdm/auto.py:21: TqdmWarning: IProgress not found. Please update jupyter and ipywidgets. See https://ipywidgets.readthedocs.io/en/stable/user_install.html\n",
      "  from .autonotebook import tqdm as notebook_tqdm\n"
     ]
    },
    {
     "name": "stdout",
     "output_type": "stream",
     "text": [
      "Dataset splits available: dict_keys(['train'])\n",
      "First example from 'train' split: {'sentence': 'According to Gran , the company has no plans to move all production to Russia , although that is where the company is growing .', 'label': 1}\n"
     ]
    }
   ],
   "source": [
    "from datasets import load_dataset\n",
    "\n",
    "def load_financial_phrasebank():\n",
    "    # Load the Financial PhraseBank dataset from Hugging Face\n",
    "    dataset = load_dataset(path=\"takala/financial_phrasebank\", name=\"sentences_50agree\", trust_remote_code=True)\n",
    "    \n",
    "    # Print dataset details to verify successful loading\n",
    "    print(\"Dataset splits available:\", dataset.keys())\n",
    "    # Print an example from the train split\n",
    "    if \"train\" in dataset:\n",
    "        print(\"First example from 'train' split:\", dataset[\"train\"][0])\n",
    "    else:\n",
    "        print(\"No 'train' split found. Dataset details:\", dataset)\n",
    "\n",
    "    return dataset\n",
    "\n",
    "dataset = load_financial_phrasebank()"
   ]
  },
  {
   "cell_type": "code",
   "execution_count": 13,
   "metadata": {},
   "outputs": [
    {
     "name": "stdout",
     "output_type": "stream",
     "text": [
      "Label counts in the 'train' split: {'negative': 604, 'neutral': 2879, 'positive': 1363}\n"
     ]
    }
   ],
   "source": [
    "label_dict = {\n",
    "    0: \"negative\",\n",
    "    1: \"neutral\",\n",
    "    2: \"positive\"\n",
    "}\n",
    "\n",
    "# count the number of examples of each label in the dataset\n",
    "label_counts = {label_dict[label]: sum([example[\"label\"] == label for example in dataset[\"train\"]]) for label in label_dict}\n",
    "print(\"Label counts in the 'train' split:\", label_counts)\n",
    "\n",
    "# split into train and test sets using sk learn\n",
    "from sklearn.model_selection import train_test_split\n",
    "\n",
    "train_texts, test_texts, train_labels, test_labels = train_test_split(dataset[\"train\"][\"sentence\"], dataset[\"train\"][\"label\"], test_size=0.2, random_state=42)"
   ]
  },
  {
   "cell_type": "code",
   "execution_count": 20,
   "metadata": {},
   "outputs": [],
   "source": [
    "def get_prompt(text):\n",
    "    return f\"\"\"\n",
    "            Please classify the sentiment of the following financial text:\n",
    "            {text}\n",
    "            Sentiment Options: negative, neutral, positive\n",
    "            Do not include any other information in your response.\n",
    "            \"\"\""
   ]
  },
  {
   "cell_type": "code",
   "execution_count": 27,
   "metadata": {},
   "outputs": [
    {
     "name": "stdout",
     "output_type": "stream",
     "text": [
      "Input text: The company was supposed to deliver machinery to a veneer mill in the Tomsk region , in Russia .\n",
      "True label: neutral\n",
      "Predicted label: negative\n",
      "\n",
      "Input text: UNC Charlotte would also deploy SSH Tectia Connector to enable secure application connectivity .\n",
      "True label: neutral\n",
      "Predicted label: neutral\n",
      "\n",
      "Input text: In 2009 , Lee & Man had a combined annual production capacity of close to 4.5 million tonnes of paper and 300,000 tonnes of pulp .\n",
      "True label: neutral\n",
      "Predicted label: neutral\n",
      "\n",
      "Input text: `` That 's a very high figure on the European scale , '' Noop said , recalling however that this also includes beer bought by Finnish tourists .\n",
      "True label: neutral\n",
      "Predicted label: positive\n",
      "\n",
      "Input text: In Finland , the corresponding service is Alma Media 's Etuovi.com , Finland 's most popular and best known nationwide online service for home and property sales .\n",
      "True label: neutral\n",
      "Predicted label: neutral\n",
      "\n",
      "Input text: Construction is scheduled to start in April-June 2007 and to be completed in early 2008 .\n",
      "True label: neutral\n",
      "Predicted label: negative\n",
      "\n",
      "Input text: Finnish-owned contract manufacturer of electronics Elcoteq Hungary Kft has announced plans to recruit more than 650 new staffers to fulfill new orders in P+®cs , where the company has two plants .\n",
      "True label: positive\n",
      "Predicted label: negative\n",
      "\n",
      "Input text: The gross area of the Innova 2 project will be about 10,000 sq m ( 107,600 sq ft ) .\n",
      "True label: neutral\n",
      "Predicted label: negative\n",
      "\n",
      "Input text: Finnish home decoration and arts and crafts retailer Tiimari Plc ( OMX Helsinki : TII1V ) reported on Monday ( 18 August ) an operating loss of EUR3 .3 m on net sales of EUR33 .9 m for the period January-June 2008 .\n",
      "True label: neutral\n",
      "Predicted label: negative\n",
      "\n",
      "Input text: Deliveries will start in the second half of 2007 and the start-up of the mill is scheduled for 2008 .\n",
      "True label: neutral\n",
      "Predicted label: negative\n",
      "\n",
      "Input text: Steek , which was set up in 2002 , is based in Bordeaux , southwestern France .\n",
      "True label: neutral\n",
      "Predicted label: negative\n",
      "\n",
      "Input text: Outotec said it won new orders worth 492.9 mln eur during the quarter , compared with 240.4 mln eur a year earlier .\n",
      "True label: positive\n",
      "Predicted label: negative\n",
      "\n",
      "Input text: The store is located in Poznan in a shopping center named Pestka , the company added .\n",
      "True label: neutral\n",
      "Predicted label: neutral\n",
      "\n",
      "Input text: The value of the order is USD 2.2 mn .\n",
      "True label: neutral\n",
      "Predicted label: positive\n",
      "\n",
      "Input text: The company expects meat purchases to remain at about 8mn kilos in 2011 .\n",
      "True label: neutral\n",
      "Predicted label: negative\n",
      "\n",
      "Input text: Finnish house manufacturers are targeting the strongly growing one-family house market in Russia .\n",
      "True label: neutral\n",
      "Predicted label: positive\n",
      "\n",
      "Input text: The deal was worth about EUR 1.2 mn .\n",
      "True label: neutral\n",
      "Predicted label: negative\n",
      "\n",
      "Input text: Any investment or investment activity to which this communication relates is only available to relevant persons and will be engaged in only with relevant persons .\n",
      "True label: neutral\n",
      "Predicted label: positive\n",
      "\n",
      "Input text: Following the increase the company+óEUR TM s capital totals 5.5 mln Romanian lei $ 1.98 mln-1 .56 mln euro .\n",
      "True label: neutral\n",
      "Predicted label: positive\n",
      "\n",
      "Input text: Since the association 's data do not cover sales figures from about 100 small local breweries and sales of imported beer products , the actual market shares of its members are smaller than those given in the report .\n",
      "True label: negative\n",
      "Predicted label: negative\n",
      "\n",
      "Input text: According to the Latvian business register , Uponor Latvia closed in red with LVL 99,000 EUR 139,538.17 USD 194,556.48 on turnover of LVL 2.346 mn for 2009 .\n",
      "True label: negative\n",
      "Predicted label: negative\n",
      "\n",
      "Input text: The issue came up in connection with discussion with local municipalities concerning the sale of water to industrial facilities .\n",
      "True label: neutral\n",
      "Predicted label: negative\n",
      "\n",
      "Input text: Operating profit rose to EUR 13.1 mn from EUR 8.7 mn in the corresponding period in 2007 representing 7.7 % of net sales .\n",
      "True label: positive\n",
      "Predicted label: positive\n",
      "\n",
      "Input text: Its annual capacity is some 10,000 MW .\n",
      "True label: neutral\n",
      "Predicted label: negative\n",
      "\n",
      "Input text: The Finnish company is building a 800,000 mt-year biodiesel plant in Singapore .\n",
      "True label: neutral\n",
      "Predicted label: neutral\n",
      "\n",
      "Input text: The long-standing partnership and commitment enable both parties to develop their respective operations , and ESL Shipping will also have the opportunity to update its fleet and improve its efficiency .\n",
      "True label: positive\n",
      "Predicted label: neutral\n",
      "\n",
      "Input text: Aldata Solution , a global company engaged in supplier to consumer business process optimization , has announced the details of its Dollars for Dinosaurs program .\n",
      "True label: neutral\n",
      "Predicted label: positive\n",
      "\n",
      "Input text: The reasons behind the estimate include the rise in 2008 rent levels and several fully-leased office and retail properties , which were completed and added to the company 's investment property portfolio .\n",
      "True label: neutral\n",
      "Predicted label: negative\n",
      "\n",
      "Input text: Finnish beverage company Olvi is introducing a new long drink Olvi Kultalonkero ( `` golden long drink '' ) in the market in Finland in the spring of 2009 .\n",
      "True label: neutral\n",
      "Predicted label: negative\n",
      "\n",
      "Input text: The current reference grade instruments are challenging to operate due to their high price and complexity for routine use .\n",
      "True label: negative\n",
      "Predicted label: positive\n",
      "\n",
      "Input text: Rental of building equipment accounted for 88 percent of the operating income .\n",
      "True label: neutral\n",
      "Predicted label: positive\n",
      "\n",
      "Input text: After piloting , the instrument will be further developed according to the experiences gained .\n",
      "True label: neutral\n",
      "Predicted label: negative\n",
      "\n",
      "Input text: The goal will be achieved via organic growth possibly supplemented by acquisitions .\n",
      "True label: neutral\n",
      "Predicted label: neutral\n",
      "\n",
      "Input text: Operating profit fell from EUR 7.9 mn in the second quarter of 2005 to EUR 5.1 mn in the second quarter of 2006 .\n",
      "True label: negative\n",
      "Predicted label: negative\n",
      "\n",
      "Input text: The 3C Expo is a signature show in Dongguan , which is supported by the Dongguan Municipal Government every year , featuring computer accessories , software , communication and network products .\n",
      "True label: neutral\n",
      "Predicted label: negative\n",
      "\n",
      "Input text: Ruukki Romania , the local arm of Finnish metal producer Ruukki , increased its capital by 900,000 euro ( $ 1.14 mln ) through cash contribution , it was reported on September 19 , 2006 .\n",
      "True label: positive\n",
      "Predicted label: positive\n",
      "\n",
      "Input text: Nokia s U.S. shares were 3.3 percent lower at $ 12.73 by 1750 GMT .\n",
      "True label: negative\n",
      "Predicted label: negative\n",
      "\n",
      "Input text: Finnish component supplier Componenta Corporation ( OMX Helsinki : CTH1V ) reported on Tuesday ( 15 July ) an operating profit of EUR46 .2 m on net sales of EUR386 .0 m for the financial period January-June 2008 .\n",
      "True label: neutral\n",
      "Predicted label: negative\n",
      "\n",
      "Input text: Elite Residence Tower , a new development by Tameer , is located at the heart of Dubai Marina .\n",
      "True label: neutral\n",
      "Predicted label: positive\n",
      "\n",
      "Input text: The lay-offs will affect 240 people out of the total 320 Okmetic employees in Finland .\n",
      "True label: negative\n",
      "Predicted label: negative\n",
      "\n",
      "Input text: `` With this agreement , we can continue our good cooperationand at the same time release capital that has been tied up in ourmachinery operation .\n",
      "True label: positive\n",
      "Predicted label: negative\n",
      "\n",
      "Input text: Travel expenses would be reimbursed in accordance with the travel policy of the company .\n",
      "True label: neutral\n",
      "Predicted label: negative\n",
      "\n",
      "Input text: Ahlstrom Corporation Anne Pirila Director , Financial communications Distribution : Helsinki Stock Exchange Main media Ahlstrom in brief Ahlstrom is a leader in the development , manufacture and marketing of high performance fiber-based materials .\n",
      "True label: neutral\n",
      "Predicted label: negative\n",
      "\n",
      "Input text: In 2007 , almost two thirds of Orion 's net sales came from these drugs .\n",
      "True label: neutral\n",
      "Predicted label: positive\n",
      "\n",
      "Input text: Net income from life insurance doubled to EUR 6.8 mn from EUR 3.2 mn , and net income from non-life insurance rose to EUR 5.2 mn from EUR 1.5 mn in the corresponding period in 2009 .\n",
      "True label: positive\n",
      "Predicted label: positive\n",
      "\n",
      "Input text: According to Aktia Asset Management , Finnish analysts ' forecasts for 2009 are still too high .\n",
      "True label: negative\n",
      "Predicted label: negative\n",
      "\n",
      "Input text: Ramirent is the leading construction machinery rental company in Finland with annual sales of EUR 134 million in 2009 and operating nationwide through 83 outlets and 612 employees .\n",
      "True label: positive\n",
      "Predicted label: neutral\n",
      "\n",
      "Input text: In 2006 , TeliaSonera net sales were SEK 91 bn , EBITDA was SEK 32.266 bn , net income was SEK 19.28 bn .\n",
      "True label: neutral\n",
      "Predicted label: neutral\n",
      "\n",
      "Input text: The chain posted sales of 298 million euros for full 2005 , a rise of 19.5 percent , year-on-year .\n",
      "True label: positive\n",
      "Predicted label: positive\n",
      "\n",
      "Input text: Scanfil expects net sales in 2008 to remain at the 2007 level .\n",
      "True label: neutral\n",
      "Predicted label: positive\n",
      "\n"
     ]
    }
   ],
   "source": [
    "# get predictions from the Ollama model for the first 50 examples in the test set\n",
    "pred_labels = []\n",
    "\n",
    "for text in test_texts[:50]:\n",
    "    print(\"Input text:\", text)\n",
    "    print(\"True label:\", label_dict[test_labels[test_texts.index(text)]])\n",
    "    predicted_label = ollama(model=MODEL, prompt=get_prompt(text))\n",
    "    print(\"Predicted label:\", predicted_label)\n",
    "    print()\n",
    "    # strip and lowercase the predicted label\n",
    "    predicted_label = predicted_label.strip().lower()\n",
    "    pred_labels.append(predicted_label)"
   ]
  },
  {
   "cell_type": "code",
   "execution_count": null,
   "metadata": {},
   "outputs": [
    {
     "name": "stdout",
     "output_type": "stream",
     "text": [
      "Model accuracy on the test set: 0.34\n"
     ]
    },
    {
     "data": {
      "image/png": "[encoded data removed]",
      "text/plain": [
       "<Figure size 800x600 with 2 Axes>"
      ]
     },
     "metadata": {},
     "output_type": "display_data"
    }
   ],
   "source": [
    "# calculate the accuracy of the model on the test set and print confusion matrix\n",
    "from sklearn.metrics import accuracy_score, confusion_matrix\n",
    "\n",
    "# convert the predicted labels to numerical values\n",
    "pred_labels_num = [list(label_dict.keys())[list(label_dict.values()).index(label)] for label in pred_labels]\n",
    "\n",
    "# calculate the accuracy\n",
    "accuracy = accuracy_score(test_labels[:50], pred_labels_num)\n",
    "print(\"Model accuracy on the test set:\", accuracy)\n",
    "\n",
    "# print the confusion matrix\n",
    "conf_matrix = confusion_matrix(test_labels[:50], pred_labels_num)\n",
    "\n",
    "# plot the confusion matrix\n",
    "import matplotlib.pyplot as plt\n",
    "import seaborn as sns\n",
    "\n",
    "plt.figure(figsize=(8, 6))\n",
    "sns.heatmap(conf_matrix, annot=True, fmt='d', cmap='Blues', xticklabels=label_dict.values(), yticklabels=label_dict.values())\n",
    "plt.xlabel(\"Predicted label\")\n",
    "plt.ylabel(\"True label\")\n",
    "plt.title(\"Confusion Matrix\")\n",
    "plt.show()"
   ]
  },
  {
   "cell_type": "markdown",
   "metadata": {},
   "source": [
    "### CodeCarbon"
   ]
  },
  {
   "cell_type": "code",
   "execution_count": 2,
   "metadata": {},
   "outputs": [
    {
     "name": "stderr",
     "output_type": "stream",
     "text": [
      "/Users/hendriksippel/Documents/Repositories/cbs-thesis-efficient-llm-distillation/.venv/lib/python3.11/site-packages/keras/src/layers/reshaping/flatten.py:37: UserWarning: Do not pass an `input_shape`/`input_dim` argument to a layer. When using Sequential models, prefer using an `Input(shape)` object as the first layer in the model instead.\n",
      "  super().__init__(**kwargs)\n",
      "[codecarbon INFO @ 11:22:51] [setup] RAM Tracking...\n",
      "[codecarbon INFO @ 11:22:51] [setup] CPU Tracking...\n",
      "[codecarbon WARNING @ 11:22:52] No CPU tracking mode found. Falling back on CPU constant mode. \n",
      " Mac OS and ARM processor detected: Please enable PowerMetrics sudo to measure CPU\n",
      "\n",
      "[codecarbon INFO @ 11:22:52] CPU Model on constant consumption mode: Apple M1\n",
      "[codecarbon INFO @ 11:22:52] [setup] GPU Tracking...\n",
      "[codecarbon INFO @ 11:22:52] No GPU found.\n",
      "[codecarbon INFO @ 11:22:52] >>> Tracker's metadata:\n",
      "[codecarbon INFO @ 11:22:52]   Platform system: macOS-15.3-arm64-arm-64bit\n",
      "[codecarbon INFO @ 11:22:52]   Python version: 3.11.7\n",
      "[codecarbon INFO @ 11:22:52]   CodeCarbon version: 2.8.3\n",
      "[codecarbon INFO @ 11:22:52]   Available RAM : 8.000 GB\n",
      "[codecarbon INFO @ 11:22:52]   CPU count: 8\n",
      "[codecarbon INFO @ 11:22:52]   CPU model: Apple M1\n",
      "[codecarbon INFO @ 11:22:52]   GPU count: None\n",
      "[codecarbon INFO @ 11:22:52]   GPU model: None\n",
      "[codecarbon INFO @ 11:22:52] Saving emissions data to file /Users/hendriksippel/Documents/Repositories/cbs-thesis-efficient-llm-distillation/metrics/emissions/emissions.csv\n"
     ]
    },
    {
     "name": "stdout",
     "output_type": "stream",
     "text": [
      "\u001b[1m1875/1875\u001b[0m \u001b[32m━━━━━━━━━━━━━━━━━━━━\u001b[0m\u001b[37m\u001b[0m \u001b[1m3s\u001b[0m 1ms/step - accuracy: 0.8617 - loss: 0.4690\n"
     ]
    },
    {
     "name": "stderr",
     "output_type": "stream",
     "text": [
      "[codecarbon INFO @ 11:22:56] Energy consumed for RAM : 0.000000 kWh. RAM Power : 0.07154273986816406 W\n",
      "[codecarbon INFO @ 11:22:56] Energy consumed for all CPUs : 0.000005 kWh. Total CPU Power : 5.0 W\n",
      "[codecarbon INFO @ 11:22:56] 0.000005 kWh of electricity used since the beginning.\n"
     ]
    }
   ],
   "source": [
    "import tensorflow as tf\n",
    "from codecarbon import EmissionsTracker\n",
    "\n",
    "mnist = tf.keras.datasets.mnist\n",
    "\n",
    "(x_train, y_train), (x_test, y_test) = mnist.load_data()\n",
    "x_train, x_test = x_train / 255.0, x_test / 255.0\n",
    "\n",
    "model = tf.keras.models.Sequential(\n",
    "    [\n",
    "        tf.keras.layers.Flatten(input_shape=(28, 28)),\n",
    "        tf.keras.layers.Dense(128, activation=\"relu\"),\n",
    "        tf.keras.layers.Dropout(0.2),\n",
    "        tf.keras.layers.Dense(10),\n",
    "    ]\n",
    ")\n",
    "\n",
    "loss_fn = tf.keras.losses.SparseCategoricalCrossentropy(from_logits=True)\n",
    "\n",
    "with EmissionsTracker(\n",
    "    project_name=\"model-distillation\", \n",
    "    experiment_id=\"123\", \n",
    "    tracking_mode=\"process\",\n",
    "    output_dir=\"metrics/emissions\"\n",
    "    ) as tracker:\n",
    "    model.compile(optimizer=\"adam\", loss=loss_fn, metrics=[\"accuracy\"])\n",
    "    model.fit(x_train, y_train, epochs=1)"
   ]
  },
  {
   "cell_type": "code",
   "execution_count": 3,
   "metadata": {},
   "outputs": [
    {
     "name": "stdout",
     "output_type": "stream",
     "text": [
      "Tracked final energy consumption: 5.1546787110767475e-06 kWh\n",
      "Tracked final CO2 emissions: 7.817070265347888e-07 kgCO2\n"
     ]
    }
   ],
   "source": [
    "print(f\"Tracked final energy consumption: {tracker._total_energy.kWh} kWh\")\n",
    "print(f\"Tracked final CO2 emissions: {tracker.final_emissions} kgCO2\")"
   ]
  }
 ],
 "metadata": {
  "kernelspec": {
   "display_name": ".venv",
   "language": "python",
   "name": "python3"
  },
  "language_info": {
   "codemirror_mode": {
    "name": "ipython",
    "version": 3
   },
   "file_extension": ".py",
   "mimetype": "text/x-python",
   "name": "python",
   "nbconvert_exporter": "python",
   "pygments_lexer": "ipython3",
   "version": "3.11.7"
  }
 },
 "nbformat": 4,
 "nbformat_minor": 2
}
